{
 "cells": [
  {
   "cell_type": "code",
   "execution_count": 23,
   "metadata": {},
   "outputs": [],
   "source": [
    "import numpy as np\n",
    "from tensorflow import keras\n",
    "import pickle\n",
    "from tensorflow.keras.preprocessing.sequence import pad_sequences\n",
    "import seaborn as sns\n",
    "import pandas as pd\n",
    "import matplotlib.pyplot as plt\n",
    "from tabulate import tabulate\n",
    "from sklearn.metrics import confusion_matrix, classification_report"
   ]
  },
  {
   "cell_type": "code",
   "execution_count": 42,
   "metadata": {},
   "outputs": [],
   "source": [
    "# Change paths according to what model you want to test\n",
    "# Load the saved model\n",
    "model = keras.models.load_model('LSTM Models/model_20230607_205656.h5')\n",
    "\n",
    "# Load the saved tokenizer\n",
    "with open('LSTM Tokenizer/tokenizer_20230607_210039.pkl', 'rb') as handle:\n",
    "    tokenizer = pickle.load(handle)\n",
    "\n",
    "# Generated movie reviews\n",
    "reviews = [\n",
    "\"The acting in this movie was incredible! Definitely a must-watch.\",\n",
    "\"I found the plot of this film to be confusing and poorly executed.\",\n",
    "\"The cinematography and visuals in this movie were breathtaking. Highly recommended!\",\n",
    "\"I was disappointed by the lackluster performances in this film. Not worth the hype.\",\n",
    "\"This movie kept me on the edge of my seat from start to finish. Brilliant storytelling!\",\n",
    "\"The dialogue in this film felt forced and unnatural. I couldn't connect with the characters.\",\n",
    "\"The soundtrack of this movie was fantastic and added so much to the overall experience. Loved it!\",\n",
    "\"The pacing of the film was too slow for my liking. I lost interest halfway through.\",\n",
    "\"The chemistry between the lead actors was palpable. Their performances were outstanding!\",\n",
    "\"I found the plot twists in this movie to be predictable and clichéd. Nothing new or exciting.\",\n",
    "\"The humor in this film had me laughing out loud. A delightful and enjoyable watch!\",\n",
    "\"The special effects in this movie were subpar. They looked cheap and unconvincing.\",\n",
    "\"The character development in this film was top-notch. I was emotionally invested in their journeys.\",\n",
    "\"The editing in this movie was choppy and disjointed. It hindered my understanding of the story.\",\n",
    "\"The messages and themes explored in this film were thought-provoking. It left a lasting impact.\",\n",
    "\"The lack of diversity in the cast and crew of this movie was disappointing. Representation matters.\",\n",
    "\"The cinematography in this film was breathtaking. Each frame was a work of art.\",\n",
    "\"The plot of this movie was engaging and kept me guessing until the end. A great suspense thriller!\",\n",
    "\"The dialogue in this film was smart and witty. The script was well-written and engaging.\",\n",
    "\"The acting performances in this movie were wooden and lacked depth. It felt like a missed opportunity.\",\n",
    "\"The direction of this film was superb. Every scene was meticulously crafted. A true cinematic gem.\",\n",
    "\"I couldn't help but be moved by the emotional performances in this movie. It tugged at my heartstrings.\",\n",
    "\"The plot of this film was convoluted and confusing. It was hard to follow and left me unsatisfied.\",\n",
    "\"The visual effects in this movie were mind-blowing. It transported me to a whole new world.\",\n",
    "\"The pacing of this film was perfect. It kept me engaged from beginning to end. Highly recommended!\",\n",
    "\"The lead actor's performance in this movie was exceptional. They brought the character to life.\",\n",
    "\"The script of this film was clichéd and predictable. It lacked originality and failed to surprise.\",\n",
    "\"The soundtrack in this movie was hauntingly beautiful. It added depth and emotion to every scene.\",\n",
    "\"The cinematography in this film was lackluster. It failed to capture the essence of the story.\",\n",
    "\"The chemistry between the romantic leads in this movie was undeniable. It made my heart flutter.\",\n",
    "\"The action sequences in this film were adrenaline-pumping. I was on the edge of my seat.\",\n",
    "\"The plot of this movie was thin and uninteresting. It failed to engage and left me bored.\",\n",
    "\"The costume design in this film was exquisite. It added authenticity and brought the characters to life.\",\n",
    "\"The dialogue in this movie was cheesy and cringe-worthy. It took away from the overall experience.\",\n",
    "\"The social commentary in this film was powerful. It shed light on important issues in a thought-provoking way.\",\n",
    "\"The performances in this movie were underwhelming. The actors lacked conviction and emotion.\",\n",
    "\"The humor in this film was clever and had me laughing throughout. A delightful comedy!\",\n",
    "\"The production design in this movie was stunning. Every detail was meticulously crafted.\",\n",
    "\"The plot twists in this film were unexpected and kept me guessing. It kept me hooked till the end.\",\n",
    "\"The character development in this movie was shallow and unconvincing. I couldn't connect with them.\",\n",
    "\"The emotional depth in this film was palpable. It touched my heart and left me reflecting.\",\n",
    "\"The editing in this movie was seamless. It enhanced the storytelling and created a cohesive narrative.\",\n",
    "\"The themes explored in this film were thought-provoking. It challenged societal norms and sparked conversations.\",\n",
    "\"The cinematography in this movie was bland and uninspiring. It lacked visual creativity.\",\n",
    "\"The performances in this film were lackluster. The actors seemed disengaged and their delivery felt forced.\",\n",
    "\"The soundtrack of this movie was forgettable. It failed to enhance the emotional impact of the scenes.\",\n",
    "\"The plot of this film was predictable and formulaic. It offered no surprises or originality.\",\n",
    "\"The chemistry between the ensemble cast in this movie was electric. Their interactions were a joy to watch.\",\n",
    "\"The visual aesthetics in this film were breathtaking. Every frame was like a work of art.\",\n",
    "\"The storytelling in this movie was disjointed and confusing. It failed to provide a coherent narrative.\"\n",
    "]"
   ]
  },
  {
   "cell_type": "code",
   "execution_count": 43,
   "metadata": {},
   "outputs": [
    {
     "data": {
      "text/plain": [
       "50"
      ]
     },
     "execution_count": 43,
     "metadata": {},
     "output_type": "execute_result"
    }
   ],
   "source": [
    "total_reviews = len(reviews)\n",
    "total_reviews"
   ]
  },
  {
   "cell_type": "code",
   "execution_count": 44,
   "metadata": {},
   "outputs": [],
   "source": [
    "# Hyperparameters of the model\n",
    "vocab_size = 3000 # choose based on statistics\n",
    "oov_tok = ''\n",
    "embedding_dim = 100\n",
    "max_length = 250 # choose based on statistics, for example 150 to 200\n",
    "padding_type='post'\n",
    "trunc_type='post'"
   ]
  },
  {
   "cell_type": "code",
   "execution_count": 45,
   "metadata": {},
   "outputs": [
    {
     "name": "stdout",
     "output_type": "stream",
     "text": [
      "WARNING:tensorflow:5 out of the last 9 calls to <function Model.make_predict_function.<locals>.predict_function at 0x000002B16CA805E0> triggered tf.function retracing. Tracing is expensive and the excessive number of tracings could be due to (1) creating @tf.function repeatedly in a loop, (2) passing tensors with different shapes, (3) passing Python objects instead of tensors. For (1), please define your @tf.function outside of the loop. For (2), @tf.function has reduce_retracing=True option that can avoid unnecessary retracing. For (3), please refer to https://www.tensorflow.org/guide/function#controlling_retracing and https://www.tensorflow.org/api_docs/python/tf/function for  more details.\n",
      "2/2 [==============================] - 1s 20ms/step\n",
      "Review: The acting in this movie was incredible! Definitely a must-watch.\n",
      "Predicted Sentiment: Positive\n",
      "\n",
      "Review: I found the plot of this film to be confusing and poorly executed.\n",
      "Predicted Sentiment: Negative\n",
      "\n",
      "Review: The cinematography and visuals in this movie were breathtaking. Highly recommended!\n",
      "Predicted Sentiment: Positive\n",
      "\n",
      "Review: I was disappointed by the lackluster performances in this film. Not worth the hype.\n",
      "Predicted Sentiment: Negative\n",
      "\n",
      "Review: This movie kept me on the edge of my seat from start to finish. Brilliant storytelling!\n",
      "Predicted Sentiment: Positive\n",
      "\n",
      "Review: The dialogue in this film felt forced and unnatural. I couldn't connect with the characters.\n",
      "Predicted Sentiment: Negative\n",
      "\n",
      "Review: The soundtrack of this movie was fantastic and added so much to the overall experience. Loved it!\n",
      "Predicted Sentiment: Positive\n",
      "\n",
      "Review: The pacing of the film was too slow for my liking. I lost interest halfway through.\n",
      "Predicted Sentiment: Negative\n",
      "\n",
      "Review: The chemistry between the lead actors was palpable. Their performances were outstanding!\n",
      "Predicted Sentiment: Positive\n",
      "\n",
      "Review: I found the plot twists in this movie to be predictable and clichéd. Nothing new or exciting.\n",
      "Predicted Sentiment: Negative\n",
      "\n",
      "Review: The humor in this film had me laughing out loud. A delightful and enjoyable watch!\n",
      "Predicted Sentiment: Positive\n",
      "\n",
      "Review: The special effects in this movie were subpar. They looked cheap and unconvincing.\n",
      "Predicted Sentiment: Negative\n",
      "\n",
      "Review: The character development in this film was top-notch. I was emotionally invested in their journeys.\n",
      "Predicted Sentiment: Negative\n",
      "\n",
      "Review: The editing in this movie was choppy and disjointed. It hindered my understanding of the story.\n",
      "Predicted Sentiment: Positive\n",
      "\n",
      "Review: The messages and themes explored in this film were thought-provoking. It left a lasting impact.\n",
      "Predicted Sentiment: Negative\n",
      "\n",
      "Review: The lack of diversity in the cast and crew of this movie was disappointing. Representation matters.\n",
      "Predicted Sentiment: Negative\n",
      "\n",
      "Review: The cinematography in this film was breathtaking. Each frame was a work of art.\n",
      "Predicted Sentiment: Positive\n",
      "\n",
      "Review: The plot of this movie was engaging and kept me guessing until the end. A great suspense thriller!\n",
      "Predicted Sentiment: Positive\n",
      "\n",
      "Review: The dialogue in this film was smart and witty. The script was well-written and engaging.\n",
      "Predicted Sentiment: Positive\n",
      "\n",
      "Review: The acting performances in this movie were wooden and lacked depth. It felt like a missed opportunity.\n",
      "Predicted Sentiment: Negative\n",
      "\n",
      "Review: The direction of this film was superb. Every scene was meticulously crafted. A true cinematic gem.\n",
      "Predicted Sentiment: Positive\n",
      "\n",
      "Review: I couldn't help but be moved by the emotional performances in this movie. It tugged at my heartstrings.\n",
      "Predicted Sentiment: Positive\n",
      "\n",
      "Review: The plot of this film was convoluted and confusing. It was hard to follow and left me unsatisfied.\n",
      "Predicted Sentiment: Negative\n",
      "\n",
      "Review: The visual effects in this movie were mind-blowing. It transported me to a whole new world.\n",
      "Predicted Sentiment: Positive\n",
      "\n",
      "Review: The pacing of this film was perfect. It kept me engaged from beginning to end. Highly recommended!\n",
      "Predicted Sentiment: Positive\n",
      "\n",
      "Review: The lead actor's performance in this movie was exceptional. They brought the character to life.\n",
      "Predicted Sentiment: Positive\n",
      "\n",
      "Review: The script of this film was clichéd and predictable. It lacked originality and failed to surprise.\n",
      "Predicted Sentiment: Negative\n",
      "\n",
      "Review: The soundtrack in this movie was hauntingly beautiful. It added depth and emotion to every scene.\n",
      "Predicted Sentiment: Positive\n",
      "\n",
      "Review: The cinematography in this film was lackluster. It failed to capture the essence of the story.\n",
      "Predicted Sentiment: Negative\n",
      "\n",
      "Review: The chemistry between the romantic leads in this movie was undeniable. It made my heart flutter.\n",
      "Predicted Sentiment: Positive\n",
      "\n",
      "Review: The action sequences in this film were adrenaline-pumping. I was on the edge of my seat.\n",
      "Predicted Sentiment: Positive\n",
      "\n",
      "Review: The plot of this movie was thin and uninteresting. It failed to engage and left me bored.\n",
      "Predicted Sentiment: Negative\n",
      "\n",
      "Review: The costume design in this film was exquisite. It added authenticity and brought the characters to life.\n",
      "Predicted Sentiment: Negative\n",
      "\n",
      "Review: The dialogue in this movie was cheesy and cringe-worthy. It took away from the overall experience.\n",
      "Predicted Sentiment: Negative\n",
      "\n",
      "Review: The social commentary in this film was powerful. It shed light on important issues in a thought-provoking way.\n",
      "Predicted Sentiment: Positive\n",
      "\n",
      "Review: The performances in this movie were underwhelming. The actors lacked conviction and emotion.\n",
      "Predicted Sentiment: Negative\n",
      "\n",
      "Review: The humor in this film was clever and had me laughing throughout. A delightful comedy!\n",
      "Predicted Sentiment: Positive\n",
      "\n",
      "Review: The production design in this movie was stunning. Every detail was meticulously crafted.\n",
      "Predicted Sentiment: Positive\n",
      "\n",
      "Review: The plot twists in this film were unexpected and kept me guessing. It kept me hooked till the end.\n",
      "Predicted Sentiment: Positive\n",
      "\n",
      "Review: The character development in this movie was shallow and unconvincing. I couldn't connect with them.\n",
      "Predicted Sentiment: Negative\n",
      "\n",
      "Review: The emotional depth in this film was palpable. It touched my heart and left me reflecting.\n",
      "Predicted Sentiment: Positive\n",
      "\n",
      "Review: The editing in this movie was seamless. It enhanced the storytelling and created a cohesive narrative.\n",
      "Predicted Sentiment: Positive\n",
      "\n",
      "Review: The themes explored in this film were thought-provoking. It challenged societal norms and sparked conversations.\n",
      "Predicted Sentiment: Positive\n",
      "\n",
      "Review: The cinematography in this movie was bland and uninspiring. It lacked visual creativity.\n",
      "Predicted Sentiment: Negative\n",
      "\n",
      "Review: The performances in this film were lackluster. The actors seemed disengaged and their delivery felt forced.\n",
      "Predicted Sentiment: Negative\n",
      "\n",
      "Review: The soundtrack of this movie was forgettable. It failed to enhance the emotional impact of the scenes.\n",
      "Predicted Sentiment: Negative\n",
      "\n",
      "Review: The plot of this film was predictable and formulaic. It offered no surprises or originality.\n",
      "Predicted Sentiment: Negative\n",
      "\n",
      "Review: The chemistry between the ensemble cast in this movie was electric. Their interactions were a joy to watch.\n",
      "Predicted Sentiment: Positive\n",
      "\n",
      "Review: The visual aesthetics in this film were breathtaking. Every frame was like a work of art.\n",
      "Predicted Sentiment: Positive\n",
      "\n",
      "Review: The storytelling in this movie was disjointed and confusing. It failed to provide a coherent narrative.\n",
      "Predicted Sentiment: Negative\n",
      "\n"
     ]
    }
   ],
   "source": [
    "# Tokenize the reviews using the loaded tokenizer\n",
    "sequences = tokenizer.texts_to_sequences(reviews)\n",
    "\n",
    "# Pad the sequences using the maximum length from training\n",
    "padded_sequences = pad_sequences(sequences, padding='post', maxlen=max_length)\n",
    "\n",
    "# Predict the labels\n",
    "predicted_labels = model.predict(padded_sequences)\n",
    "\n",
    "# Convert the predicted labels to binary values (0 or 1)\n",
    "predicted_labels = np.round(predicted_labels).flatten()\n",
    "print(predicted_labels)\n",
    "\n",
    "# Store the predicted labels in a list\n",
    "predicted_labels_list = []\n",
    "for label in predicted_labels:\n",
    "    if label >= 0.5:\n",
    "        predicted_labels_list.append(1)\n",
    "    else:\n",
    "        predicted_labels_list.append(0)\n",
    "\n",
    "# Convert the predicted labels_list to a NumPy array\n",
    "predicted_labels = np.array(predicted_labels_list)\n",
    "\n",
    "# Print the predicted labels for the reviews\n",
    "for i, review in enumerate(reviews):\n",
    "    sentiment = \"Positive\" if predicted_labels[i] == 1 else \"Negative\"\n",
    "    print(\"Review:\", review)\n",
    "    print(\"Predicted Sentiment:\", sentiment)\n",
    "    print()"
   ]
  },
  {
   "cell_type": "code",
   "execution_count": 46,
   "metadata": {},
   "outputs": [],
   "source": [
    "# Assuming you have the true labels and predicted labels\n",
    "true_labels = np.array([1,0,1,0,1,0,1,0,1,0,1,0,1,0,1,0,1,1,1,0,1,1,0,1,1,1,0,1,0,1,1,0,1,0,1,0,1,1,1,0,1,1,1,0,0,0,0,1,1,0])"
   ]
  },
  {
   "cell_type": "code",
   "execution_count": 47,
   "metadata": {},
   "outputs": [
    {
     "name": "stdout",
     "output_type": "stream",
     "text": [
      "Confusion Matrix:\n",
      "[[20  1]\n",
      " [ 3 26]]\n"
     ]
    },
    {
     "data": {
      "image/png": "[encoded data removed]",
      "text/plain": [
       "<Figure size 600x400 with 2 Axes>"
      ]
     },
     "metadata": {},
     "output_type": "display_data"
    }
   ],
   "source": [
    "# Generate confusion matrix\n",
    "cm = confusion_matrix(true_labels, predicted_labels)\n",
    "print(\"Confusion Matrix:\")\n",
    "print(cm)\n",
    "\n",
    "# Visualize confusion matrix using a heatmap\n",
    "plt.figure(figsize=(6, 4))\n",
    "sns.heatmap(cm, annot=True, cmap='Blues')\n",
    "plt.xlabel('Predicted Labels')\n",
    "plt.ylabel('True Labels')\n",
    "plt.title('Confusion Matrix')\n",
    "plt.show()"
   ]
  },
  {
   "cell_type": "code",
   "execution_count": 48,
   "metadata": {},
   "outputs": [
    {
     "name": "stdout",
     "output_type": "stream",
     "text": [
      "\n",
      "Classification Report:\n",
      "              precision    recall  f1-score   support\n",
      "\n",
      "           0       0.87      0.95      0.91        21\n",
      "           1       0.96      0.90      0.93        29\n",
      "\n",
      "    accuracy                           0.92        50\n",
      "   macro avg       0.92      0.92      0.92        50\n",
      "weighted avg       0.92      0.92      0.92        50\n",
      "\n"
     ]
    }
   ],
   "source": [
    "# Calculate precision, recall, and F1-score for each class\n",
    "report = classification_report(true_labels, predicted_labels)\n",
    "print(\"\\nClassification Report:\")\n",
    "print(report)"
   ]
  },
  {
   "cell_type": "code",
   "execution_count": 49,
   "metadata": {},
   "outputs": [
    {
     "name": "stdout",
     "output_type": "stream",
     "text": [
      "\n",
      "Sample Predictions:\n",
      "    True Labels  Predicted Labels\n",
      "29            1                 1\n",
      "8             1                 1\n",
      "37            1                 1\n",
      "28            0                 0\n",
      "0             1                 1\n"
     ]
    }
   ],
   "source": [
    "# Visualize predictions\n",
    "data = pd.DataFrame({'True Labels': true_labels, 'Predicted Labels': predicted_labels})\n",
    "sample_predictions = data.sample(n=5)  # Select a random sample of predictions\n",
    "print(\"\\nSample Predictions:\")\n",
    "print(sample_predictions)"
   ]
  },
  {
   "cell_type": "code",
   "execution_count": 50,
   "metadata": {},
   "outputs": [
    {
     "name": "stdout",
     "output_type": "stream",
     "text": [
      "\n",
      "Misclassified Samples:\n",
      "    True Labels  Predicted Labels\n",
      "12            1                 0\n",
      "13            0                 1\n",
      "14            1                 0\n",
      "32            1                 0\n"
     ]
    }
   ],
   "source": [
    "# Error analysis\n",
    "misclassified_samples = data[data['True Labels'] != data['Predicted Labels']]  # Filter misclassified samples\n",
    "print(\"\\nMisclassified Samples:\")\n",
    "print(misclassified_samples)"
   ]
  }
 ],
 "metadata": {
  "kernelspec": {
   "display_name": "Classification2",
   "language": "python",
   "name": "python3"
  },
  "language_info": {
   "codemirror_mode": {
    "name": "ipython",
    "version": 3
   },
   "file_extension": ".py",
   "mimetype": "text/x-python",
   "name": "python",
   "nbconvert_exporter": "python",
   "pygments_lexer": "ipython3",
   "version": "3.10.11"
  },
  "orig_nbformat": 4
 },
 "nbformat": 4,
 "nbformat_minor": 2
}
